{
 "cells": [
  {
   "cell_type": "markdown",
   "id": "0b99e047",
   "metadata": {},
   "source": [
    "## Define environment variables"
   ]
  },
  {
   "cell_type": "code",
   "execution_count": 1,
   "id": "7d47337b-d63f-4f74-81f6-4bf714e6e705",
   "metadata": {},
   "outputs": [
    {
     "name": "stdout",
     "output_type": "stream",
     "text": [
      "env: PATH=/usr/local/cuda/bin:/opt/conda/bin:/opt/conda/condabin:/usr/local/bin:/usr/bin:/bin:/usr/local/games:/usr/games:/home/jupyter/.local/bin\n"
     ]
    }
   ],
   "source": [
    "# Set `PATH` to include user python binary directory and a directory containing `skaffold`.\n",
    "PATH=%env PATH\n",
    "%env PATH={PATH}:/home/jupyter/.local/bin"
   ]
  },
  {
   "cell_type": "code",
   "execution_count": 2,
   "id": "5493d631-0d62-42b2-8dcf-f29cd8d6f1a5",
   "metadata": {},
   "outputs": [
    {
     "name": "stdout",
     "output_type": "stream",
     "text": [
      "env: GOOGLE_CLOUD_PROJECT=tfx-cloud-project\n",
      "GCP project ID:tfx-cloud-project\n"
     ]
    }
   ],
   "source": [
    "# Read GCP project id from env.\n",
    "shell_output=!gcloud config list --format 'value(core.project)' 2>/dev/null\n",
    "GOOGLE_CLOUD_PROJECT=shell_output[0]\n",
    "%env GOOGLE_CLOUD_PROJECT={GOOGLE_CLOUD_PROJECT}\n",
    "print(\"GCP project ID:\" + GOOGLE_CLOUD_PROJECT)"
   ]
  },
  {
   "cell_type": "markdown",
   "id": "9b67eec0",
   "metadata": {},
   "source": [
    "## Create BQ Dataset"
   ]
  },
  {
   "cell_type": "code",
   "execution_count": 3,
   "id": "279d2370-d66d-4316-a038-f76ee6a26002",
   "metadata": {},
   "outputs": [
    {
     "name": "stdout",
     "output_type": "stream",
     "text": [
      "Created dataset tfx-cloud-project.data_validation\n",
      "BigQuery dataset is ready.\n"
     ]
    }
   ],
   "source": [
    "BQ_DATASET_NAME = 'data_validation'\n",
    "BQ_TABLE_NAME = 'sentiment_analysis_logs' \n",
    "\n",
    "from google.cloud import bigquery\n",
    "client = bigquery.Client(GOOGLE_CLOUD_PROJECT)\n",
    "dataset_names = [dataset.dataset_id for dataset in client.list_datasets(GOOGLE_CLOUD_PROJECT)]\n",
    "\n",
    "dataset = bigquery.Dataset(\"{}.{}\".format(GOOGLE_CLOUD_PROJECT, BQ_DATASET_NAME))\n",
    "dataset.location = \"US\"\n",
    "\n",
    "if BQ_DATASET_NAME not in dataset_names:\n",
    "    dataset = client.create_dataset(dataset)\n",
    "    print(\"Created dataset {}.{}\".format(client.project, dataset.dataset_id))\n",
    "\n",
    "print(\"BigQuery dataset is ready.\")"
   ]
  },
  {
   "cell_type": "markdown",
   "id": "f5e757a9",
   "metadata": {},
   "source": [
    "## Create BQ Table"
   ]
  },
  {
   "cell_type": "code",
   "execution_count": 4,
   "id": "1a92c458-5a9b-4384-8c72-b39d34d4f916",
   "metadata": {},
   "outputs": [],
   "source": [
    "import json\n",
    "\n",
    "table_schema_json = [\n",
    " {\"name\":\"model\", \"type\": \"STRING\", \"mode\": \"REQUIRED\"},\n",
    " {\"name\":\"model_version\", \"type\": \"STRING\", \"mode\":\"REQUIRED\"},\n",
    " {\"name\":\"time\", \"type\": \"TIMESTAMP\", \"mode\": \"REQUIRED\"},\n",
    " {\"name\":\"raw_data\", \"type\": \"STRING\", \"mode\": \"REQUIRED\"},\n",
    " {\"name\":\"raw_prediction\", \"type\": \"STRING\", \"mode\": \"NULLABLE\"},\n",
    " {\"name\":\"groundtruth\", \"type\": \"STRING\", \"mode\": \"NULLABLE\"}]\n",
    "\n",
    "json.dump(table_schema_json, open('table_schema.json', 'w'))"
   ]
  },
  {
   "cell_type": "code",
   "execution_count": 5,
   "id": "dde52ee4-3646-4f24-97d3-4e1a584e3bc8",
   "metadata": {},
   "outputs": [
    {
     "name": "stdout",
     "output_type": "stream",
     "text": [
      "Table 'tfx-cloud-project:data_validation.sentiment_analysis_logs' successfully created.\n"
     ]
    }
   ],
   "source": [
    "!bq mk --table \\\n",
    " --project_id={GOOGLE_CLOUD_PROJECT} \\\n",
    " {GOOGLE_CLOUD_PROJECT}:{BQ_DATASET_NAME}.{BQ_TABLE_NAME} \\\n",
    " 'table_schema.json'"
   ]
  },
  {
   "cell_type": "markdown",
   "id": "da1fe1b3",
   "metadata": {},
   "source": [
    "## Activate logging"
   ]
  },
  {
   "cell_type": "code",
   "execution_count": 23,
   "id": "e481adcd-d244-4332-b430-49ffa966705f",
   "metadata": {},
   "outputs": [
    {
     "name": "stdout",
     "output_type": "stream",
     "text": [
      "projects/tfx-cloud-project/models/sentiment_analysis_tfx/versions/v1665514300\n"
     ]
    }
   ],
   "source": [
    "import googleapiclient.discovery\n",
    "import re\n",
    "\n",
    "PIPELINE_NAME = 'sentiment_analysis_tfx'\n",
    "LOCATION = 'us-central1'\n",
    "pattern = re.compile(f'(?<=versions/).+')\n",
    "service = googleapiclient.discovery.build('ml', 'v1')\n",
    "\n",
    "parent = f\"projects/{GOOGLE_CLOUD_PROJECT}/models/{PIPELINE_NAME.replace('-', '_')}\"\n",
    "versions_list = service.projects().models().versions().list(parent=parent).execute()\n",
    "\n",
    "try:\n",
    "    name = [i['name'] for i in versions_list['versions'] if i.get('isDefault')][0]\n",
    "    VERSION_NAME = pattern.search(name).group()\n",
    "    print(name)\n",
    "except:\n",
    "    print('The request did not return a default version')"
   ]
  },
  {
   "cell_type": "code",
   "execution_count": 1,
   "id": "d6e9ae41-bf27-4f9c-bdc0-d94ce32ce7fd",
   "metadata": {},
   "outputs": [],
   "source": [
    "sampling_percentage = 1.0\n",
    "bq_full_table_name = '{}.{}.{}'.format(GOOGLE_CLOUD_PROJECT, BQ_DATASET_NAME, BQ_TABLE_NAME)\n",
    "\n",
    "service = googleapiclient.discovery.build('ml', 'v1')\n",
    "\n",
    "logging_config = {\n",
    "   \"requestLoggingConfig\":{\n",
    "       \"samplingPercentage\": sampling_percentage,\n",
    "       \"bigqueryTableName\": bq_full_table_name\n",
    "       }\n",
    "   }\n",
    "\n",
    "service.projects().models().versions().patch(\n",
    "   name=name,\n",
    "   body=logging_config,\n",
    "   updateMask=\"requestLoggingConfig\"\n",
    "   ).execute()"
   ]
  },
  {
   "cell_type": "markdown",
   "id": "8b5c8b15",
   "metadata": {},
   "source": [
    "## Make requests"
   ]
  },
  {
   "cell_type": "code",
   "execution_count": 8,
   "id": "4a808842-2510-4051-9baf-e45922641956",
   "metadata": {},
   "outputs": [],
   "source": [
    "import googleapiclient.discovery\n",
    "import os\n",
    "\n",
    "def predict_json(project, model, instances, signature_name, version=None):\n",
    "    \"\"\"Send json data to a deployed model for prediction.\n",
    "\n",
    "    Args:\n",
    "        project (str): project where the Cloud ML Engine Model is deployed.\n",
    "        model (str): model name.\n",
    "        instances ([Mapping[str: Any]]): Keys should be the names of Tensors\n",
    "            your deployed model expects as inputs. Values should be datatypes\n",
    "            convertible to Tensors, or (potentially nested) lists of datatypes\n",
    "            convertible to tensors.\n",
    "        version: str, version of the model to target.\n",
    "    Returns:\n",
    "        Mapping[str: any]: dictionary of prediction results defined by the\n",
    "            model.\n",
    "    \"\"\"\n",
    "\n",
    "    service = googleapiclient.discovery.build('ml', 'v1')\n",
    "    name = 'projects/{}/models/{}'.format(project, model)\n",
    "\n",
    "    if version is not None:\n",
    "        name += '/versions/{}'.format(version)\n",
    "\n",
    "    response = service.projects().predict(\n",
    "        name=name,\n",
    "        body={\"instances\": instances,\n",
    "        \"signature_name\": signature_name},\n",
    "    ).execute()\n",
    "\n",
    "    if 'error' in response:\n",
    "        raise RuntimeError(response['error'])\n",
    "\n",
    "    return response['predictions']"
   ]
  },
  {
   "cell_type": "code",
   "execution_count": 10,
   "id": "9a583903-4e3d-4ae1-a23a-dd70975b26ae",
   "metadata": {},
   "outputs": [],
   "source": [
    "import pandas as pd"
   ]
  },
  {
   "cell_type": "code",
   "execution_count": 11,
   "id": "33856c78-ff48-4eca-8e61-b87c8395ceae",
   "metadata": {},
   "outputs": [],
   "source": [
    "df_to_predict = pd.read_csv('./modules/data/data.csv')"
   ]
  },
  {
   "cell_type": "code",
   "execution_count": 33,
   "id": "52b07e6b-013e-4b82-b047-8dc4ffadbed0",
   "metadata": {},
   "outputs": [],
   "source": [
    "my_dict = df_to_predict.iloc[100:110][['title']].to_dict(orient='records')\n",
    "dict_to_predict = [{k + '-prod': [v] for k, v in i.items()} for i in my_dict]"
   ]
  },
  {
   "cell_type": "code",
   "execution_count": 34,
   "id": "8b3234be-a068-4306-bf1d-8e564f8b25a3",
   "metadata": {},
   "outputs": [],
   "source": [
    "signature_name = \"predict_raw\"\n",
    "model_name = \"sentiment_analysis_tfx\"\n",
    "predicts = predict_json(GOOGLE_CLOUD_PROJECT, model_name, dict_to_predict, signature_name)"
   ]
  },
  {
   "cell_type": "code",
   "execution_count": 35,
   "id": "e88fa564-684a-487b-beeb-69ede6ccbeaa",
   "metadata": {},
   "outputs": [
    {
     "data": {
      "text/plain": [
       "[{'probabilities': [0.0001798063749447465,\n",
       "   0.9774225950241089,\n",
       "   0.022397633641958237],\n",
       "  'prediction_confidence': 0.9774225950241089,\n",
       "  'label_key': 1},\n",
       " {'probabilities': [5.552982474910095e-05,\n",
       "   0.9983223080635071,\n",
       "   0.001622054260224104],\n",
       "  'prediction_confidence': 0.9983223080635071,\n",
       "  'label_key': 1},\n",
       " {'probabilities': [0.0006623921217396855,\n",
       "   0.9977486729621887,\n",
       "   0.0015888793859630823],\n",
       "  'prediction_confidence': 0.9977486729621887,\n",
       "  'label_key': 1},\n",
       " {'probabilities': [0.0020524056162685156,\n",
       "   0.996985137462616,\n",
       "   0.0009624735685065389],\n",
       "  'prediction_confidence': 0.996985137462616,\n",
       "  'label_key': 1},\n",
       " {'probabilities': [0.005938063841313124,\n",
       "   0.9933116436004639,\n",
       "   0.0007503399392589927],\n",
       "  'prediction_confidence': 0.9933116436004639,\n",
       "  'label_key': 1},\n",
       " {'probabilities': [0.00020802860672120005,\n",
       "   0.9994733929634094,\n",
       "   0.0003186532121617347],\n",
       "  'prediction_confidence': 0.9994733929634094,\n",
       "  'label_key': 1},\n",
       " {'probabilities': [6.33958843536675e-05,\n",
       "   0.9924813508987427,\n",
       "   0.007455214858055115],\n",
       "  'prediction_confidence': 0.9924813508987427,\n",
       "  'label_key': 1},\n",
       " {'probabilities': [0.015049966983497143,\n",
       "   0.9848647117614746,\n",
       "   8.53096935315989e-05],\n",
       "  'prediction_confidence': 0.9848647117614746,\n",
       "  'label_key': 1},\n",
       " {'probabilities': [0.9773069620132446,\n",
       "   0.02242274396121502,\n",
       "   0.00027025563758797944],\n",
       "  'prediction_confidence': 0.9773069620132446,\n",
       "  'label_key': 0},\n",
       " {'probabilities': [0.8060907125473022,\n",
       "   0.19366781413555145,\n",
       "   0.00024149150704033673],\n",
       "  'prediction_confidence': 0.8060907125473022,\n",
       "  'label_key': 0}]"
      ]
     },
     "execution_count": 35,
     "metadata": {},
     "output_type": "execute_result"
    }
   ],
   "source": [
    "predicts"
   ]
  },
  {
   "cell_type": "code",
   "execution_count": 24,
   "id": "87a1b26c-301c-410c-b6e3-7e3c37d7c531",
   "metadata": {},
   "outputs": [],
   "source": [
    "import create_view"
   ]
  },
  {
   "cell_type": "code",
   "execution_count": 25,
   "id": "8225d8fa-5e37-4a71-8b7b-c67c8b4518c7",
   "metadata": {},
   "outputs": [
    {
     "name": "stdout",
     "output_type": "stream",
     "text": [
      "View was created or replaced.\n"
     ]
    },
    {
     "data": {
      "text/plain": [
       "'\\n    CREATE OR REPLACE VIEW data_validation.vw_sentiment_analysis_logs_v1665514300\\n    AS\\n    SELECT \\n        model, \\n        model_version, \\n        time,\\n     ARRAY(\\n          SELECT AS STRUCT\\n          JSON_EXTRACT(instances, \\'$.title-prod[0]\\') AS title, \\n          CAST(JSON_EXTRACT(predictions, \\'$.label_key\\') AS FLOAT64) AS label_key, \\r\\n    CAST(JSON_EXTRACT(predictions, \\'$.prediction_confidence\\') AS FLOAT64) AS prediction_confidence\\n          FROM \\n          UNNEST(JSON_EXTRACT_ARRAY(raw_prediction, \"$.predictions\")\\n          ) predictions WITH OFFSET AS f1 \\n          JOIN\\n          UNNEST(JSON_EXTRACT_ARRAY(raw_data, \"$.instances\")) instances WITH OFFSET AS f2\\n          ON f1=f2\\n      ) as request\\n    FROM \\n    tfx-cloud-project.data_validation.sentiment_analysis_logs\\n    WHERE \\n    model = \"sentiment_analysis_tfx\" AND\\n    model_version = \"v1665514300\"\\n    '"
      ]
     },
     "execution_count": 25,
     "metadata": {},
     "output_type": "execute_result"
    }
   ],
   "source": [
    "create_view.create_view(GOOGLE_CLOUD_PROJECT, BQ_DATASET_NAME, BQ_TABLE_NAME, PIPELINE_NAME, VERSION_NAME)"
   ]
  },
  {
   "cell_type": "code",
   "execution_count": null,
   "id": "fb264bd7-5220-449f-bf6f-6871c68a81c9",
   "metadata": {},
   "outputs": [],
   "source": []
  }
 ],
 "metadata": {
  "environment": {
   "kernel": "python3",
   "name": "tf2-gpu.2-8.m97",
   "type": "gcloud",
   "uri": "gcr.io/deeplearning-platform-release/tf2-gpu.2-8:m97"
  },
  "kernelspec": {
   "display_name": "Python 3.8.10 ('base': conda)",
   "language": "python",
   "name": "python3"
  },
  "language_info": {
   "codemirror_mode": {
    "name": "ipython",
    "version": 3
   },
   "file_extension": ".py",
   "mimetype": "text/x-python",
   "name": "python",
   "nbconvert_exporter": "python",
   "pygments_lexer": "ipython3",
   "version": "3.8.10"
  },
  "vscode": {
   "interpreter": {
    "hash": "75d7cbf18e5cb3fdb05343164699d951283e027a13faaa193f739ae887708926"
   }
  }
 },
 "nbformat": 4,
 "nbformat_minor": 5
}
